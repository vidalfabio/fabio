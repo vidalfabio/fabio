{
 "cells": [
  {
   "cell_type": "code",
   "execution_count": 1,
   "metadata": {},
   "outputs": [],
   "source": [
    "from fastai.vision.all import *"
   ]
  },
  {
   "cell_type": "code",
   "execution_count": 2,
   "metadata": {},
   "outputs": [],
   "source": [
    "path = untar_data(URLs.MNIST_SAMPLE)"
   ]
  },
  {
   "cell_type": "markdown",
   "metadata": {},
   "source": [
    "**Direcciones"
   ]
  },
  {
   "cell_type": "code",
   "execution_count": 3,
   "metadata": {},
   "outputs": [],
   "source": [
    "train3_folder = (path/'train'/'3').ls() # dirección de las imágenes\n",
    "train7_folder = (path/'train'/'7').ls()\n",
    "valid3_folder = (path/'valid'/'3').ls()\n",
    "valid7_folder = (path/'valid'/'7').ls()"
   ]
  },
  {
   "cell_type": "markdown",
   "metadata": {},
   "source": [
    "**Creación de los tensores"
   ]
  },
  {
   "cell_type": "code",
   "execution_count": 4,
   "metadata": {},
   "outputs": [],
   "source": [
    "def stack(folder):\n",
    "    x = torch.stack([tensor(Image.open(o)) for o in (folder)]).float()/255 # crea una lista con las imágenes (puedo abrir cualquiera con show_image(train_7[])). Divie por 255 para que los valores estén entre 0 y 1\n",
    "    return x"
   ]
  },
  {
   "cell_type": "code",
   "execution_count": 5,
   "metadata": {},
   "outputs": [],
   "source": [
    "train_7 = stack(train7_folder) # tensor de rango-3 (6265 matrices de 28x28, siendo cada matriz una imagen)\n",
    "train_3 = stack(train3_folder) # train_3.shape -> torch.Size([6265, 28, 28]) Se tienen así dos sets de entrenamiento, uno para el 3 y otro para el 7\n",
    "valid_3 = stack(valid3_folder) # valid_3.shape -> torch.Size([1010, 28, 28])\n",
    "valid_7 = stack(valid7_folder) # valid_7.shape -> torch.Size([1028, 28, 28]) Se tienen así dos sets de validación, uno para el 3 y otro para el 7"
   ]
  },
  {
   "cell_type": "code",
   "execution_count": 6,
   "metadata": {},
   "outputs": [],
   "source": [
    "train_x = torch.cat([train_3, train_7]).view(-1, 28*28) # concatena los tensores tridimensionales de entrenamiento, y los convierte en una lista de vectores. Las matrices de 28x28 ahora son vectores de largo 28x28=784\n",
    "train_y = tensor([1]*len(train3_folder) + [0]*len(train7_folder)).unsqueeze(1) # crea un vector con tantos 1 como elementos hay en la train3_folder, y tantos 0 como elementos hay en train7_folder\n",
    "\n",
    "valid_x = torch.cat([valid_3, valid_7]).view(-1, 28*28) # el set de validación se muestra también como una colección de vectores\n",
    "valid_y = tensor([1]*len(valid3_folder) + [0]*len(valid7_folder)).unsqueeze(1) # básicamente, el vector de labels para valid_x"
   ]
  },
  {
   "cell_type": "markdown",
   "metadata": {},
   "source": [
    "**Creación de los datasets"
   ]
  },
  {
   "cell_type": "code",
   "execution_count": 7,
   "metadata": {},
   "outputs": [],
   "source": [
    "dset = list(zip(train_x, train_y)) # genera un arreglo de tuplas (train_x,train_y) --es un arreglo donde cada vector tiene su correspondiente etiqueta--\n",
    "dset_valid = list(zip(valid_x, valid_y)) # idem para el set de validación"
   ]
  },
  {
   "cell_type": "code",
   "execution_count": 8,
   "metadata": {},
   "outputs": [],
   "source": [
    "def init_params(size, std=1.0):\n",
    "    return (torch.randn(size)*std).requires_grad_()"
   ]
  },
  {
   "cell_type": "code",
   "execution_count": 9,
   "metadata": {},
   "outputs": [],
   "source": [
    "def linear1(x):\n",
    "    return x@weights + bias"
   ]
  },
  {
   "cell_type": "code",
   "execution_count": 10,
   "metadata": {},
   "outputs": [],
   "source": [
    "def mnist_loss(preds, target):\n",
    "    preds = preds.sigmoid()\n",
    "    return torch.where(target ==1, 1-preds, preds).mean()"
   ]
  },
  {
   "cell_type": "code",
   "execution_count": 11,
   "metadata": {},
   "outputs": [],
   "source": [
    "def mse(preds, target):\n",
    "    preds= preds.sigmoid()\n",
    "    return ((preds-target)**2).mean()"
   ]
  },
  {
   "cell_type": "code",
   "execution_count": 12,
   "metadata": {},
   "outputs": [],
   "source": [
    "# Inicialización de parámetros\n",
    "\n",
    "weights = init_params(28*28,1)\n",
    "bias = init_params(1)\n",
    "\n",
    "params = weights, bias\n",
    "\n",
    "lr = 1"
   ]
  },
  {
   "cell_type": "code",
   "execution_count": 13,
   "metadata": {},
   "outputs": [],
   "source": [
    "dl = DataLoader(dset, batch_size=56) # crea lotes de elementos, para procesar en paralelo\n",
    "dl_valid = DataLoader(dset_valid, batch_size=56) # idem, con el set de validación"
   ]
  },
  {
   "cell_type": "code",
   "execution_count": 14,
   "metadata": {},
   "outputs": [],
   "source": [
    "def calc_grad(x, y, model):\n",
    "    preds = linear1(x)\n",
    "    loss = mnist_loss(preds, y) # calcula el loss para las predicciones respecto a sus labels\n",
    "    loss.backward()"
   ]
  },
  {
   "cell_type": "code",
   "execution_count": 34,
   "metadata": {},
   "outputs": [],
   "source": [
    "def metric(pred, target):\n",
    "    return (pred.sigmoid().round().unsqueeze(1) == target).float().mean() # consultar bien esta línea\n",
    "\n",
    "# pred es la predicción hecha con linear1\n",
    "# sigmoid() limita los valores entre 0 y 1\n",
    "# round() los redondea a enteros\n",
    "# unsqueeze(1) le da la misma forma que target, para poder comparar\n",
    "# la comparación da en valores booleanos\n",
    "# .float() los convierte en números\n",
    "# .mean() saca el promedio"
   ]
  },
  {
   "cell_type": "markdown",
   "metadata": {},
   "source": [
    "Para usar de ejemplo lo anterior, se puede probar:<br>\n",
    "batch_x = list(dl)[43][0]<br>\n",
    "batch_y = list(dl)[43][1]<br>\n",
    "pred = linear1(batch_x)<br>\n",
    "pred<br>\n",
    "pred.sigmoid()<br>\n",
    "pred.sigmoid().round()<br>\n",
    "(pred.sigmoid().round().unsqueeze(1)<br>\n",
    "(pred.sigmoid().round().unsqueeze(1) == batch_y)<br>\n",
    "(pred.sigmoid().round().unsqueeze(1) == batch_y).float()<br>\n",
    "(pred.sigmoid().round().unsqueeze(1) == batch_y).float().mean()<br>"
   ]
  },
  {
   "cell_type": "code",
   "execution_count": 42,
   "metadata": {},
   "outputs": [],
   "source": [
    "def train_epoch(model, lr, params):\n",
    "    for x, y in dl: # 'x' sería un lote de entrenamiento, 'y' sus labels\n",
    "        calc_grad(x, y, linear1)\n",
    "        #print('error rate:', metric(linear1(x),y).item())\n",
    "        for p in params:\n",
    "            p.data -= p.grad*lr\n",
    "            p.grad.zero_()"
   ]
  },
  {
   "cell_type": "code",
   "execution_count": 43,
   "metadata": {},
   "outputs": [],
   "source": [
    "def validate_epoch(model):\n",
    "    accurates = [metric(linear1(x), y) for x,y in dl_valid] # cuenta los aciertos para cada lote\n",
    "    return round(torch.stack(accurates).mean().item(), 4) # hace un vector con los valores, y calcular el promedio. El 4 es la cantidad de decimales"
   ]
  },
  {
   "cell_type": "code",
   "execution_count": 48,
   "metadata": {},
   "outputs": [
    {
     "name": "stdout",
     "output_type": "stream",
     "text": [
      "0.9566\n",
      "0.9595\n",
      "0.9633\n",
      "0.9667\n",
      "0.9686\n",
      "0.9706\n",
      "0.973\n",
      "0.9735\n",
      "0.9754\n",
      "0.9768\n",
      "0.9778\n",
      "0.9788\n",
      "0.9788\n",
      "0.9792\n",
      "0.9802\n",
      "0.9807\n",
      "0.9807\n",
      "0.9812\n",
      "0.9812\n",
      "0.9817\n"
     ]
    }
   ],
   "source": [
    "for i in range(20):\n",
    "    train_epoch(linear1, lr, params)\n",
    "    validate_epoch(linear1) # Mientras más se acerca a 1, mejor. Dio al revés del error rate\n",
    "    print(validate_epoch(linear1), end='\\n')"
   ]
  }
 ],
 "metadata": {
  "kernelspec": {
   "display_name": "Python 3",
   "language": "python",
   "name": "python3"
  },
  "language_info": {
   "codemirror_mode": {
    "name": "ipython",
    "version": 3
   },
   "file_extension": ".py",
   "mimetype": "text/x-python",
   "name": "python",
   "nbconvert_exporter": "python",
   "pygments_lexer": "ipython3",
   "version": "3.8.6"
  }
 },
 "nbformat": 4,
 "nbformat_minor": 4
}
